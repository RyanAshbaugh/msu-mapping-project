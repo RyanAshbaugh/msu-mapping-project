{
 "cells": [
  {
   "cell_type": "code",
   "execution_count": 14,
   "metadata": {},
   "outputs": [],
   "source": [
    "# add utils to path\n",
    "import sys\n",
    "sys.path.append('../')\n",
    "\n",
    "import json\n",
    "import numpy as np"
   ]
  },
  {
   "cell_type": "code",
   "execution_count": 15,
   "metadata": {},
   "outputs": [],
   "source": [
    "def shift_and_normalize_points(points, shift=[0., 0.5, 0.5, 0.5], scale=1):\n",
    "    # Shift the points\n",
    "    points_shifted = np.array(points) - np.array(shift)\n",
    "    norm = np.linalg.norm(points_shifted)\n",
    "    return (points_shifted / norm).tolist()\n",
    "    \n",
    "\n",
    "def unshift_and_normalize_points(points, shift=[0.0, 0.5, 0.5, 0.5], scale=1):\n",
    "    # Unnormalize the points\n",
    "    points_unshifted = np.array(points) + np.array(shift)\n",
    "    norm = np.linalg.norm(points_unshifted)\n",
    "    return (points_unshifted / norm).tolist()\n",
    "\n",
    "def quaternion_multiply(q1, q2):\n",
    "    # Unpack the quaternions\n",
    "    w1, x1, y1, z1 = q1\n",
    "    w2, x2, y2, z2 = q2\n",
    "    \n",
    "    # Perform the multiplication\n",
    "    w = w1*w2 - x1*x2 - y1*y2 - z1*z2\n",
    "    x = w1*x2 + x1*w2 + y1*z2 - z1*y2\n",
    "    y = w1*y2 - x1*z2 + y1*w2 + z1*x2\n",
    "    z = w1*z2 + x1*y2 - y1*x2 + z1*w2\n",
    "    \n",
    "    return [w, x, y, z]\n",
    "\n",
    "# def rotate_around_z(R, T, theta, shift=[0.5, 0.5]):\n",
    "#     # Convert theta from degrees to radians\n",
    "#     theta_rad = np.radians(theta)\n",
    "    \n",
    "#     # Create a quaternion for rotation around the Z axis\n",
    "#     q_rot_z = [np.cos(theta_rad / 2), 0, 0, np.sin(theta_rad / 2)]\n",
    "#     q_rot_x = [np.cos(theta_rad / 2), np.sin(theta_rad / 2), 0, 0]\n",
    "#     q_rot_y = [np.cos(theta_rad / 2), 0, np.sin(theta_rad / 2), 0]\n",
    "#     q_rot = q_rot_y\n",
    "\n",
    "#     T_shifted = [T[0] - shift[0], T[1] - shift[1], T[2]]\n",
    "#     T_shifted_quat = [0] + T_shifted\n",
    "#     T_rotated_shifted_quat = quaternion_multiply(\n",
    "#         quaternion_multiply(q_rot, T_shifted_quat),\n",
    "#         [q_rot[0], -q_rot[1], -q_rot[2], -q_rot[3]]\n",
    "#     )\n",
    "\n",
    "#     T_rotated = [\n",
    "#         T_rotated_shifted_quat[1] + shift[0],\n",
    "#         T_rotated_shifted_quat[2] + shift[1],\n",
    "#         T_rotated_shifted_quat[3]\n",
    "#     ]\n",
    "\n",
    "#     # Rotate R\n",
    "#     R_rotated = quaternion_multiply(q_rot, R)\n",
    "    \n",
    "    \n",
    "#     return R_rotated, T_rotated\n",
    "def normalize_quaternion(q):\n",
    "    # make array if not already\n",
    "    q = np.array(q)\n",
    "    \"\"\"Normalize a quaternion.\"\"\"\n",
    "    norm = np.linalg.norm(q)\n",
    "    return (q / norm).tolist()\n",
    "\n",
    "def quaternion_to_rotation_matrix(q):\n",
    "    \"\"\"Convert a quaternion into a 3x3 rotation matrix.\"\"\"\n",
    "    w, x, y, z = q\n",
    "    R = np.array([\n",
    "        [1 - 2*y*y - 2*z*z,     2*x*y - 2*z*w,     2*x*z + 2*y*w],\n",
    "        [2*x*y + 2*z*w,     1 - 2*x*x - 2*z*z,     2*y*z - 2*x*w],\n",
    "        [2*x*z - 2*y*w,     2*y*z + 2*x*w,     1 - 2*x*x - 2*y*y]\n",
    "    ])\n",
    "    return R\n",
    "\n",
    "def apply_rotation_with_translation(R_original, theta, x1, z1):\n",
    "    \"\"\"Apply rotation around a line offset from the y-axis by translating, rotating, and translating back.\"\"\"\n",
    "    # Create the translation matrix to move the rotation axis to the origin\n",
    "    T_to_origin = np.array([\n",
    "        [1, 0, 0, -x1],\n",
    "        [0, 1, 0, 0],\n",
    "        [0, 0, 1, -z1],\n",
    "        [0, 0, 0, 1]\n",
    "    ])\n",
    "    # Create the inverse translation matrix to move back after rotation\n",
    "    T_back = np.array([\n",
    "        [1, 0, 0, x1],\n",
    "        [0, 1, 0, 0],\n",
    "        [0, 0, 1, z1],\n",
    "        [0, 0, 0, 1]\n",
    "    ])\n",
    "    # Create the rotation matrix (4x4) for rotation around the y-axis\n",
    "    R_y = np.array([\n",
    "        [np.cos(theta), 0, np.sin(theta), 0],\n",
    "        [0, 1, 0, 0],\n",
    "        [-np.sin(theta), 0, np.cos(theta), 0],\n",
    "        [0, 0, 0, 1]\n",
    "    ])\n",
    "    \n",
    "    # Combine the translations and rotation\n",
    "    R_combined = np.dot(T_back, np.dot(R_y, T_to_origin))\n",
    "    R_rotated = np.dot(R_combined, R_original)\n",
    "    \n",
    "    return R_rotated\n",
    "\n",
    "def rotation_matrix_to_quaternion(R):\n",
    "    \"\"\"Convert a 3x3 rotation matrix into a quaternion.\"\"\"\n",
    "    w = np.sqrt(1 + R[0, 0] + R[1, 1] + R[2, 2]) / 2\n",
    "    x = (R[2, 1] - R[1, 2]) / (4 * w)\n",
    "    y = (R[0, 2] - R[2, 0]) / (4 * w)\n",
    "    z = (R[1, 0] - R[0, 1]) / (4 * w)\n",
    "    return np.array([w, x, y, z])\n",
    "\n",
    "def quaternion_translation_to_matrix(q, t):\n",
    "    \"\"\"Convert quaternion and translation vector to a 4x4 transformation matrix.\"\"\"\n",
    "    R = quaternion_to_rotation_matrix(q)  # Convert quaternion to 3x3 rotation matrix\n",
    "    T = np.eye(4)  # Start with an identity matrix\n",
    "    T[:3, :3] = R  # Set the upper 3x3 part to the rotation matrix\n",
    "    T[:3, 3] = t  # Set the translation\n",
    "    return T\n",
    "\n",
    "def matrix_to_quaternion_translation(T):\n",
    "    \"\"\"Extract quaternion and translation vector from a 4x4 transformation matrix.\"\"\"\n",
    "    q_rotated = rotation_matrix_to_quaternion(T[:3, :3])  # Extract quaternion from the upper 3x3 part\n",
    "    t_rotated = T[:3, 3]  # Extract translation vector\n",
    "    return q_rotated, t_rotated\n",
    "\n",
    "def rotate_around_y(R, T, theta, shift=[0.5, 0.5]):\n",
    "    # Convert theta from degrees to radians\n",
    "    theta_rad = np.radians(theta)\n",
    "    \n",
    "    # Create a quaternion for rotation around the Y axis when \n",
    "    # R is in form [w, x, y, z]\n",
    "    q_rot_y = [np.cos(theta_rad / 2), 0, np.sin(theta_rad / 2), 0]\n",
    "    q_rot = q_rot_y\n",
    "\n",
    "    T_shifted = [T[0] - shift[0], T[1], T[2] - shift[1]]\n",
    "    T_shifted_quat = [0] + T_shifted\n",
    "    T_rotated_shifted_quat = quaternion_multiply(\n",
    "        quaternion_multiply(q_rot, T_shifted_quat),\n",
    "        [q_rot[0], -q_rot[1], -q_rot[2], -q_rot[3]]\n",
    "    )\n",
    "\n",
    "    T_rotated = [\n",
    "        T_rotated_shifted_quat[1] + shift[0],\n",
    "        T_rotated_shifted_quat[2],\n",
    "        T_rotated_shifted_quat[3] + shift[1]\n",
    "    ]\n",
    "\n",
    "    # Rotate R\n",
    "    R_shifted = normalize_quaternion([R[0], R[1] - shift[0], R[2], R[3] - shift[1]])\n",
    "    R_rotated = quaternion_multiply(\n",
    "        quaternion_multiply(q_rot, R_shifted),\n",
    "        [q_rot[0], -q_rot[1], -q_rot[2], -q_rot[3]]\n",
    "    )\n",
    "    R_rotated = [\n",
    "        R_rotated[0],\n",
    "        R_rotated[1] + shift[0],\n",
    "        R_rotated[2],\n",
    "        R_rotated[3] + shift[1]\n",
    "    ]\n",
    "\n",
    "    return R_rotated, T_rotated"
   ]
  },
  {
   "cell_type": "code",
   "execution_count": 16,
   "metadata": {},
   "outputs": [],
   "source": [
    "cam = json.load(open('../cam.json'))"
   ]
  },
  {
   "cell_type": "code",
   "execution_count": 17,
   "metadata": {},
   "outputs": [
    {
     "data": {
      "text/plain": [
       "{'loop': False,\n",
       " 'path': [{'R': [0.9380469918251038,\n",
       "    -0.0429956391453743,\n",
       "    0.3198738396167755,\n",
       "    0.12608736753463745],\n",
       "   'T': [-1.1177868843078613, 0.8019675016403198, 1.45546555519104],\n",
       "   'aperture_size': 0.0,\n",
       "   'fov': 50.625,\n",
       "   'glow_mode': 0,\n",
       "   'glow_y_cutoff': 0.0,\n",
       "   'scale': 1.1269716024398804,\n",
       "   'slice': 0.14271652698516846}],\n",
       " 'time': 1.0}"
      ]
     },
     "execution_count": 17,
     "metadata": {},
     "output_type": "execute_result"
    }
   ],
   "source": [
    "cam"
   ]
  },
  {
   "cell_type": "code",
   "execution_count": 18,
   "metadata": {},
   "outputs": [],
   "source": [
    "R = cam['path'][0]['R']\n",
    "T = cam['path'][0]['T']"
   ]
  },
  {
   "cell_type": "code",
   "execution_count": 19,
   "metadata": {},
   "outputs": [
    {
     "data": {
      "text/plain": [
       "[-1.1177868843078613, 0.8019675016403198, 1.45546555519104]"
      ]
     },
     "execution_count": 19,
     "metadata": {},
     "output_type": "execute_result"
    }
   ],
   "source": [
    "T"
   ]
  },
  {
   "cell_type": "code",
   "execution_count": 20,
   "metadata": {},
   "outputs": [],
   "source": [
    "# R_rotated, T_rotated = rotate_around_y(R, T, 90)"
   ]
  },
  {
   "cell_type": "code",
   "execution_count": 21,
   "metadata": {},
   "outputs": [],
   "source": [
    "q = R\n",
    "R_original = quaternion_to_rotation_matrix(q)"
   ]
  },
  {
   "cell_type": "code",
   "execution_count": 22,
   "metadata": {},
   "outputs": [],
   "source": [
    "T_original = quaternion_translation_to_matrix(q, T)"
   ]
  },
  {
   "cell_type": "code",
   "execution_count": 23,
   "metadata": {},
   "outputs": [],
   "source": [
    "cam_rotated = cam.copy()\n",
    "# cam_rotated['path'].append(cam['path'][0].copy())\n",
    "# cam_rotated['path'][1]['R'] = R_rotated\n",
    "# cam_rotated['path'][1]['T'] = T_rotated"
   ]
  },
  {
   "cell_type": "code",
   "execution_count": 27,
   "metadata": {},
   "outputs": [],
   "source": [
    "# rotate by 90, 180, 270\n",
    "# R_shifted = shift_and_normalize_points(R)\n",
    "for theta in range(0, 360, 10):\n",
    "    T_rotated = apply_rotation_with_translation(T_original, np.radians(theta), 0.5, 0.5)\n",
    "    q_rotated, t_rotated = matrix_to_quaternion_translation(T_rotated)\n",
    "    # R_rotated, T_rotated = rotate_around_y(R, T, i)\n",
    "    cam_rotated['path'].append(cam['path'][0].copy())\n",
    "    cam_rotated['path'][-1]['R'] = q_rotated.tolist() # unshift_and_normalize_points(R_rotated)\n",
    "    cam_rotated['path'][-1]['T'] = t_rotated.tolist() # T_rotated"
   ]
  },
  {
   "cell_type": "code",
   "execution_count": 25,
   "metadata": {},
   "outputs": [
    {
     "data": {
      "text/plain": [
       "(4, 4)"
      ]
     },
     "execution_count": 25,
     "metadata": {},
     "output_type": "execute_result"
    }
   ],
   "source": [
    "T_rotated.shape"
   ]
  },
  {
   "cell_type": "code",
   "execution_count": 26,
   "metadata": {},
   "outputs": [
    {
     "ename": "TypeError",
     "evalue": "Object of type ndarray is not JSON serializable",
     "output_type": "error",
     "traceback": [
      "\u001b[0;31m---------------------------------------------------------------------------\u001b[0m",
      "\u001b[0;31mTypeError\u001b[0m                                 Traceback (most recent call last)",
      "Cell \u001b[0;32mIn[26], line 3\u001b[0m\n\u001b[1;32m      1\u001b[0m \u001b[38;5;66;03m# save as cam_rotated.json\u001b[39;00m\n\u001b[1;32m      2\u001b[0m \u001b[38;5;28;01mwith\u001b[39;00m \u001b[38;5;28mopen\u001b[39m(\u001b[38;5;124m'\u001b[39m\u001b[38;5;124m../cam_rotated_2.json\u001b[39m\u001b[38;5;124m'\u001b[39m, \u001b[38;5;124m'\u001b[39m\u001b[38;5;124mw\u001b[39m\u001b[38;5;124m'\u001b[39m) \u001b[38;5;28;01mas\u001b[39;00m f:\n\u001b[0;32m----> 3\u001b[0m     \u001b[43mjson\u001b[49m\u001b[38;5;241;43m.\u001b[39;49m\u001b[43mdump\u001b[49m\u001b[43m(\u001b[49m\u001b[43mcam_rotated\u001b[49m\u001b[43m,\u001b[49m\u001b[43m \u001b[49m\u001b[43mf\u001b[49m\u001b[43m,\u001b[49m\u001b[43m \u001b[49m\u001b[43mindent\u001b[49m\u001b[38;5;241;43m=\u001b[39;49m\u001b[38;5;241;43m4\u001b[39;49m\u001b[43m)\u001b[49m\n",
      "File \u001b[0;32m~/anaconda3/envs/nerf-slam/lib/python3.10/json/__init__.py:179\u001b[0m, in \u001b[0;36mdump\u001b[0;34m(obj, fp, skipkeys, ensure_ascii, check_circular, allow_nan, cls, indent, separators, default, sort_keys, **kw)\u001b[0m\n\u001b[1;32m    173\u001b[0m     iterable \u001b[38;5;241m=\u001b[39m \u001b[38;5;28mcls\u001b[39m(skipkeys\u001b[38;5;241m=\u001b[39mskipkeys, ensure_ascii\u001b[38;5;241m=\u001b[39mensure_ascii,\n\u001b[1;32m    174\u001b[0m         check_circular\u001b[38;5;241m=\u001b[39mcheck_circular, allow_nan\u001b[38;5;241m=\u001b[39mallow_nan, indent\u001b[38;5;241m=\u001b[39mindent,\n\u001b[1;32m    175\u001b[0m         separators\u001b[38;5;241m=\u001b[39mseparators,\n\u001b[1;32m    176\u001b[0m         default\u001b[38;5;241m=\u001b[39mdefault, sort_keys\u001b[38;5;241m=\u001b[39msort_keys, \u001b[38;5;241m*\u001b[39m\u001b[38;5;241m*\u001b[39mkw)\u001b[38;5;241m.\u001b[39miterencode(obj)\n\u001b[1;32m    177\u001b[0m \u001b[38;5;66;03m# could accelerate with writelines in some versions of Python, at\u001b[39;00m\n\u001b[1;32m    178\u001b[0m \u001b[38;5;66;03m# a debuggability cost\u001b[39;00m\n\u001b[0;32m--> 179\u001b[0m \u001b[38;5;28;01mfor\u001b[39;00m chunk \u001b[38;5;129;01min\u001b[39;00m iterable:\n\u001b[1;32m    180\u001b[0m     fp\u001b[38;5;241m.\u001b[39mwrite(chunk)\n",
      "File \u001b[0;32m~/anaconda3/envs/nerf-slam/lib/python3.10/json/encoder.py:431\u001b[0m, in \u001b[0;36m_make_iterencode.<locals>._iterencode\u001b[0;34m(o, _current_indent_level)\u001b[0m\n\u001b[1;32m    429\u001b[0m     \u001b[38;5;28;01myield from\u001b[39;00m _iterencode_list(o, _current_indent_level)\n\u001b[1;32m    430\u001b[0m \u001b[38;5;28;01melif\u001b[39;00m \u001b[38;5;28misinstance\u001b[39m(o, \u001b[38;5;28mdict\u001b[39m):\n\u001b[0;32m--> 431\u001b[0m     \u001b[38;5;28;01myield from\u001b[39;00m _iterencode_dict(o, _current_indent_level)\n\u001b[1;32m    432\u001b[0m \u001b[38;5;28;01melse\u001b[39;00m:\n\u001b[1;32m    433\u001b[0m     \u001b[38;5;28;01mif\u001b[39;00m markers \u001b[38;5;129;01mis\u001b[39;00m \u001b[38;5;129;01mnot\u001b[39;00m \u001b[38;5;28;01mNone\u001b[39;00m:\n",
      "File \u001b[0;32m~/anaconda3/envs/nerf-slam/lib/python3.10/json/encoder.py:405\u001b[0m, in \u001b[0;36m_make_iterencode.<locals>._iterencode_dict\u001b[0;34m(dct, _current_indent_level)\u001b[0m\n\u001b[1;32m    403\u001b[0m         \u001b[38;5;28;01melse\u001b[39;00m:\n\u001b[1;32m    404\u001b[0m             chunks \u001b[38;5;241m=\u001b[39m _iterencode(value, _current_indent_level)\n\u001b[0;32m--> 405\u001b[0m         \u001b[38;5;28;01myield from\u001b[39;00m chunks\n\u001b[1;32m    406\u001b[0m \u001b[38;5;28;01mif\u001b[39;00m newline_indent \u001b[38;5;129;01mis\u001b[39;00m \u001b[38;5;129;01mnot\u001b[39;00m \u001b[38;5;28;01mNone\u001b[39;00m:\n\u001b[1;32m    407\u001b[0m     _current_indent_level \u001b[38;5;241m-\u001b[39m\u001b[38;5;241m=\u001b[39m \u001b[38;5;241m1\u001b[39m\n",
      "File \u001b[0;32m~/anaconda3/envs/nerf-slam/lib/python3.10/json/encoder.py:325\u001b[0m, in \u001b[0;36m_make_iterencode.<locals>._iterencode_list\u001b[0;34m(lst, _current_indent_level)\u001b[0m\n\u001b[1;32m    323\u001b[0m         \u001b[38;5;28;01melse\u001b[39;00m:\n\u001b[1;32m    324\u001b[0m             chunks \u001b[38;5;241m=\u001b[39m _iterencode(value, _current_indent_level)\n\u001b[0;32m--> 325\u001b[0m         \u001b[38;5;28;01myield from\u001b[39;00m chunks\n\u001b[1;32m    326\u001b[0m \u001b[38;5;28;01mif\u001b[39;00m newline_indent \u001b[38;5;129;01mis\u001b[39;00m \u001b[38;5;129;01mnot\u001b[39;00m \u001b[38;5;28;01mNone\u001b[39;00m:\n\u001b[1;32m    327\u001b[0m     _current_indent_level \u001b[38;5;241m-\u001b[39m\u001b[38;5;241m=\u001b[39m \u001b[38;5;241m1\u001b[39m\n",
      "File \u001b[0;32m~/anaconda3/envs/nerf-slam/lib/python3.10/json/encoder.py:405\u001b[0m, in \u001b[0;36m_make_iterencode.<locals>._iterencode_dict\u001b[0;34m(dct, _current_indent_level)\u001b[0m\n\u001b[1;32m    403\u001b[0m         \u001b[38;5;28;01melse\u001b[39;00m:\n\u001b[1;32m    404\u001b[0m             chunks \u001b[38;5;241m=\u001b[39m _iterencode(value, _current_indent_level)\n\u001b[0;32m--> 405\u001b[0m         \u001b[38;5;28;01myield from\u001b[39;00m chunks\n\u001b[1;32m    406\u001b[0m \u001b[38;5;28;01mif\u001b[39;00m newline_indent \u001b[38;5;129;01mis\u001b[39;00m \u001b[38;5;129;01mnot\u001b[39;00m \u001b[38;5;28;01mNone\u001b[39;00m:\n\u001b[1;32m    407\u001b[0m     _current_indent_level \u001b[38;5;241m-\u001b[39m\u001b[38;5;241m=\u001b[39m \u001b[38;5;241m1\u001b[39m\n",
      "File \u001b[0;32m~/anaconda3/envs/nerf-slam/lib/python3.10/json/encoder.py:438\u001b[0m, in \u001b[0;36m_make_iterencode.<locals>._iterencode\u001b[0;34m(o, _current_indent_level)\u001b[0m\n\u001b[1;32m    436\u001b[0m         \u001b[38;5;28;01mraise\u001b[39;00m \u001b[38;5;167;01mValueError\u001b[39;00m(\u001b[38;5;124m\"\u001b[39m\u001b[38;5;124mCircular reference detected\u001b[39m\u001b[38;5;124m\"\u001b[39m)\n\u001b[1;32m    437\u001b[0m     markers[markerid] \u001b[38;5;241m=\u001b[39m o\n\u001b[0;32m--> 438\u001b[0m o \u001b[38;5;241m=\u001b[39m \u001b[43m_default\u001b[49m\u001b[43m(\u001b[49m\u001b[43mo\u001b[49m\u001b[43m)\u001b[49m\n\u001b[1;32m    439\u001b[0m \u001b[38;5;28;01myield from\u001b[39;00m _iterencode(o, _current_indent_level)\n\u001b[1;32m    440\u001b[0m \u001b[38;5;28;01mif\u001b[39;00m markers \u001b[38;5;129;01mis\u001b[39;00m \u001b[38;5;129;01mnot\u001b[39;00m \u001b[38;5;28;01mNone\u001b[39;00m:\n",
      "File \u001b[0;32m~/anaconda3/envs/nerf-slam/lib/python3.10/json/encoder.py:179\u001b[0m, in \u001b[0;36mJSONEncoder.default\u001b[0;34m(self, o)\u001b[0m\n\u001b[1;32m    160\u001b[0m \u001b[38;5;28;01mdef\u001b[39;00m \u001b[38;5;21mdefault\u001b[39m(\u001b[38;5;28mself\u001b[39m, o):\n\u001b[1;32m    161\u001b[0m \u001b[38;5;250m    \u001b[39m\u001b[38;5;124;03m\"\"\"Implement this method in a subclass such that it returns\u001b[39;00m\n\u001b[1;32m    162\u001b[0m \u001b[38;5;124;03m    a serializable object for ``o``, or calls the base implementation\u001b[39;00m\n\u001b[1;32m    163\u001b[0m \u001b[38;5;124;03m    (to raise a ``TypeError``).\u001b[39;00m\n\u001b[0;32m   (...)\u001b[0m\n\u001b[1;32m    177\u001b[0m \n\u001b[1;32m    178\u001b[0m \u001b[38;5;124;03m    \"\"\"\u001b[39;00m\n\u001b[0;32m--> 179\u001b[0m     \u001b[38;5;28;01mraise\u001b[39;00m \u001b[38;5;167;01mTypeError\u001b[39;00m(\u001b[38;5;124mf\u001b[39m\u001b[38;5;124m'\u001b[39m\u001b[38;5;124mObject of type \u001b[39m\u001b[38;5;132;01m{\u001b[39;00mo\u001b[38;5;241m.\u001b[39m\u001b[38;5;18m__class__\u001b[39m\u001b[38;5;241m.\u001b[39m\u001b[38;5;18m__name__\u001b[39m\u001b[38;5;132;01m}\u001b[39;00m\u001b[38;5;124m \u001b[39m\u001b[38;5;124m'\u001b[39m\n\u001b[1;32m    180\u001b[0m                     \u001b[38;5;124mf\u001b[39m\u001b[38;5;124m'\u001b[39m\u001b[38;5;124mis not JSON serializable\u001b[39m\u001b[38;5;124m'\u001b[39m)\n",
      "\u001b[0;31mTypeError\u001b[0m: Object of type ndarray is not JSON serializable"
     ]
    }
   ],
   "source": [
    "# save as cam_rotated.json\n",
    "with open('../cam_rotated_2.json', 'w') as f:\n",
    "    json.dump(cam_rotated, f, indent=4)"
   ]
  },
  {
   "cell_type": "code",
   "execution_count": null,
   "metadata": {},
   "outputs": [],
   "source": []
  }
 ],
 "metadata": {
  "kernelspec": {
   "display_name": "nerf-slam",
   "language": "python",
   "name": "python3"
  },
  "language_info": {
   "codemirror_mode": {
    "name": "ipython",
    "version": 3
   },
   "file_extension": ".py",
   "mimetype": "text/x-python",
   "name": "python",
   "nbconvert_exporter": "python",
   "pygments_lexer": "ipython3",
   "version": "3.10.13"
  }
 },
 "nbformat": 4,
 "nbformat_minor": 2
}
