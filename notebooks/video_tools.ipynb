{
 "cells": [
  {
   "cell_type": "code",
   "execution_count": 1,
   "metadata": {},
   "outputs": [],
   "source": [
    "# add utils to path\n",
    "import sys\n",
    "sys.path.append('../')\n",
    "\n",
    "import json\n",
    "import numpy as np"
   ]
  },
  {
   "cell_type": "code",
   "execution_count": 2,
   "metadata": {},
   "outputs": [],
   "source": [
    "def shift_and_normalize_points(points, shift=[0., 0.5, 0.5, 0.5], scale=1):\n",
    "    # Shift the points\n",
    "    points_shifted = np.array(points) - np.array(shift)\n",
    "    norm = np.linalg.norm(points_shifted)\n",
    "    return (points_shifted / norm).tolist()\n",
    "    \n",
    "\n",
    "def unshift_and_normalize_points(points, shift=[0.0, 0.5, 0.5, 0.5], scale=1):\n",
    "    # Unnormalize the points\n",
    "    points_unshifted = np.array(points) + np.array(shift)\n",
    "    norm = np.linalg.norm(points_unshifted)\n",
    "    return (points_unshifted / norm).tolist()\n",
    "\n",
    "def quaternion_multiply(q1, q2):\n",
    "    # Unpack the quaternions\n",
    "    w1, x1, y1, z1 = q1\n",
    "    w2, x2, y2, z2 = q2\n",
    "    \n",
    "    # Perform the multiplication\n",
    "    w = w1*w2 - x1*x2 - y1*y2 - z1*z2\n",
    "    x = w1*x2 + x1*w2 + y1*z2 - z1*y2\n",
    "    y = w1*y2 - x1*z2 + y1*w2 + z1*x2\n",
    "    z = w1*z2 + x1*y2 - y1*x2 + z1*w2\n",
    "    \n",
    "    return [w, x, y, z]\n",
    "\n",
    "# def rotate_around_z(R, T, theta, shift=[0.5, 0.5]):\n",
    "#     # Convert theta from degrees to radians\n",
    "#     theta_rad = np.radians(theta)\n",
    "    \n",
    "#     # Create a quaternion for rotation around the Z axis\n",
    "#     q_rot_z = [np.cos(theta_rad / 2), 0, 0, np.sin(theta_rad / 2)]\n",
    "#     q_rot_x = [np.cos(theta_rad / 2), np.sin(theta_rad / 2), 0, 0]\n",
    "#     q_rot_y = [np.cos(theta_rad / 2), 0, np.sin(theta_rad / 2), 0]\n",
    "#     q_rot = q_rot_y\n",
    "\n",
    "#     T_shifted = [T[0] - shift[0], T[1] - shift[1], T[2]]\n",
    "#     T_shifted_quat = [0] + T_shifted\n",
    "#     T_rotated_shifted_quat = quaternion_multiply(\n",
    "#         quaternion_multiply(q_rot, T_shifted_quat),\n",
    "#         [q_rot[0], -q_rot[1], -q_rot[2], -q_rot[3]]\n",
    "#     )\n",
    "\n",
    "#     T_rotated = [\n",
    "#         T_rotated_shifted_quat[1] + shift[0],\n",
    "#         T_rotated_shifted_quat[2] + shift[1],\n",
    "#         T_rotated_shifted_quat[3]\n",
    "#     ]\n",
    "\n",
    "#     # Rotate R\n",
    "#     R_rotated = quaternion_multiply(q_rot, R)\n",
    "    \n",
    "    \n",
    "#     return R_rotated, T_rotated\n",
    "def normalize_quaternion(q):\n",
    "    # make array if not already\n",
    "    q = np.array(q)\n",
    "    \"\"\"Normalize a quaternion.\"\"\"\n",
    "    norm = np.linalg.norm(q)\n",
    "    return (q / norm).tolist()\n",
    "\n",
    "def quaternion_to_rotation_matrix(q):\n",
    "    \"\"\"Convert a quaternion into a 3x3 rotation matrix.\"\"\"\n",
    "    w, x, y, z = q\n",
    "    R = np.array([\n",
    "        [1 - 2*y*y - 2*z*z,     2*x*y - 2*z*w,     2*x*z + 2*y*w],\n",
    "        [2*x*y + 2*z*w,     1 - 2*x*x - 2*z*z,     2*y*z - 2*x*w],\n",
    "        [2*x*z - 2*y*w,     2*y*z + 2*x*w,     1 - 2*x*x - 2*y*y]\n",
    "    ])\n",
    "    return R\n",
    "\n",
    "def rotate_around_y(R, T, theta, shift=[0.5, 0.5]):\n",
    "    # Convert theta from degrees to radians\n",
    "    theta_rad = np.radians(theta)\n",
    "    \n",
    "    # Create a quaternion for rotation around the Y axis when \n",
    "    # R is in form [w, x, y, z]\n",
    "    q_rot_y = [np.cos(theta_rad / 2), 0, np.sin(theta_rad / 2), 0]\n",
    "    q_rot = q_rot_y\n",
    "\n",
    "    T_shifted = [T[0] - shift[0], T[1], T[2] - shift[1]]\n",
    "    T_shifted_quat = [0] + T_shifted\n",
    "    T_rotated_shifted_quat = quaternion_multiply(\n",
    "        quaternion_multiply(q_rot, T_shifted_quat),\n",
    "        [q_rot[0], -q_rot[1], -q_rot[2], -q_rot[3]]\n",
    "    )\n",
    "\n",
    "    T_rotated = [\n",
    "        T_rotated_shifted_quat[1] + shift[0],\n",
    "        T_rotated_shifted_quat[2],\n",
    "        T_rotated_shifted_quat[3] + shift[1]\n",
    "    ]\n",
    "\n",
    "    # Rotate R\n",
    "    R_shifted = normalize_quaternion([R[0], R[1] - shift[0], R[2], R[3] - shift[1]])\n",
    "    R_rotated = quaternion_multiply(\n",
    "        quaternion_multiply(q_rot, R_shifted),\n",
    "        [q_rot[0], -q_rot[1], -q_rot[2], -q_rot[3]]\n",
    "    )\n",
    "    R_rotated = [\n",
    "        R_rotated[0],\n",
    "        R_rotated[1] + shift[0],\n",
    "        R_rotated[2],\n",
    "        R_rotated[3] + shift[1]\n",
    "    ]\n",
    "\n",
    "    return R_rotated, T_rotated"
   ]
  },
  {
   "cell_type": "code",
   "execution_count": 3,
   "metadata": {},
   "outputs": [],
   "source": [
    "cam = json.load(open('../cam.json'))"
   ]
  },
  {
   "cell_type": "code",
   "execution_count": 4,
   "metadata": {},
   "outputs": [
    {
     "data": {
      "text/plain": [
       "{'loop': False,\n",
       " 'path': [{'R': [0.9380469918251038,\n",
       "    -0.0429956391453743,\n",
       "    0.3198738396167755,\n",
       "    0.12608736753463745],\n",
       "   'T': [-1.1177868843078613, 0.8019675016403198, 1.45546555519104],\n",
       "   'aperture_size': 0.0,\n",
       "   'fov': 50.625,\n",
       "   'glow_mode': 0,\n",
       "   'glow_y_cutoff': 0.0,\n",
       "   'scale': 1.1269716024398804,\n",
       "   'slice': 0.14271652698516846}],\n",
       " 'time': 1.0}"
      ]
     },
     "execution_count": 4,
     "metadata": {},
     "output_type": "execute_result"
    }
   ],
   "source": [
    "cam"
   ]
  },
  {
   "cell_type": "code",
   "execution_count": 5,
   "metadata": {},
   "outputs": [],
   "source": [
    "R = cam['path'][0]['R']\n",
    "T = cam['path'][0]['T']"
   ]
  },
  {
   "cell_type": "code",
   "execution_count": 6,
   "metadata": {},
   "outputs": [
    {
     "data": {
      "text/plain": [
       "[-1.1177868843078613, 0.8019675016403198, 1.45546555519104]"
      ]
     },
     "execution_count": 6,
     "metadata": {},
     "output_type": "execute_result"
    }
   ],
   "source": [
    "T"
   ]
  },
  {
   "cell_type": "code",
   "execution_count": 7,
   "metadata": {},
   "outputs": [],
   "source": [
    "R_rotated, T_rotated = rotate_around_y(R, T, 90)"
   ]
  },
  {
   "cell_type": "code",
   "execution_count": 8,
   "metadata": {},
   "outputs": [
    {
     "data": {
      "text/plain": [
       "[0.7880504498761118,\n",
       " 0.1858771247105826,\n",
       " 0.2687250483295598,\n",
       " 0.9561689994620881]"
      ]
     },
     "execution_count": 8,
     "metadata": {},
     "output_type": "execute_result"
    }
   ],
   "source": [
    "R_rotated"
   ]
  },
  {
   "cell_type": "code",
   "execution_count": 9,
   "metadata": {},
   "outputs": [],
   "source": [
    "cam_rotated = cam.copy()\n",
    "# cam_rotated['path'].append(cam['path'][0].copy())\n",
    "# cam_rotated['path'][1]['R'] = R_rotated\n",
    "# cam_rotated['path'][1]['T'] = T_rotated"
   ]
  },
  {
   "cell_type": "code",
   "execution_count": 10,
   "metadata": {},
   "outputs": [],
   "source": [
    "# rotate by 90, 180, 270\n",
    "# R_shifted = shift_and_normalize_points(R)\n",
    "for i in range(0, 360, 10):\n",
    "    R_rotated, T_rotated = rotate_around_y(R, T, i)\n",
    "    cam_rotated['path'].append(cam['path'][0].copy())\n",
    "    cam_rotated['path'][-1]['R'] = R_rotated # unshift_and_normalize_points(R_rotated)\n",
    "    cam_rotated['path'][-1]['T'] = T_rotated"
   ]
  },
  {
   "cell_type": "code",
   "execution_count": 11,
   "metadata": {},
   "outputs": [],
   "source": [
    "# save as cam_rotated.json\n",
    "with open('../cam_rotated_2.json', 'w') as f:\n",
    "    json.dump(cam_rotated, f, indent=4)"
   ]
  },
  {
   "cell_type": "code",
   "execution_count": null,
   "metadata": {},
   "outputs": [],
   "source": []
  }
 ],
 "metadata": {
  "kernelspec": {
   "display_name": "nerf-slam",
   "language": "python",
   "name": "python3"
  },
  "language_info": {
   "codemirror_mode": {
    "name": "ipython",
    "version": 3
   },
   "file_extension": ".py",
   "mimetype": "text/x-python",
   "name": "python",
   "nbconvert_exporter": "python",
   "pygments_lexer": "ipython3",
   "version": "3.10.13"
  }
 },
 "nbformat": 4,
 "nbformat_minor": 2
}
