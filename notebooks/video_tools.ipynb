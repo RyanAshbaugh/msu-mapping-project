{
 "cells": [
  {
   "cell_type": "code",
   "execution_count": 32,
   "metadata": {},
   "outputs": [],
   "source": [
    "# add utils to path\n",
    "import sys\n",
    "sys.path.append('../')\n",
    "\n",
    "import json\n",
    "import numpy as np"
   ]
  },
  {
   "cell_type": "code",
   "execution_count": 33,
   "metadata": {},
   "outputs": [],
   "source": [
    "def quaternion_to_rotation_matrix(q):\n",
    "    \"\"\"Convert a quaternion into a 3x3 rotation matrix.\"\"\"\n",
    "    w, x, y, z = q\n",
    "    R = np.array([\n",
    "        [1 - 2*y*y - 2*z*z,     2*x*y - 2*z*w,     2*x*z + 2*y*w],\n",
    "        [2*x*y + 2*z*w,     1 - 2*x*x - 2*z*z,     2*y*z - 2*x*w],\n",
    "        [2*x*z - 2*y*w,     2*y*z + 2*x*w,     1 - 2*x*x - 2*y*y]\n",
    "    ])\n",
    "    return R\n",
    "\n",
    "# def apply_rotation_with_translation(R_original, theta, x1, z1):\n",
    "#     \"\"\"Apply rotation around a line offset from the y-axis by translating, rotating, and translating back.\"\"\"\n",
    "#     # Create the translation matrix to move the rotation axis to the origin\n",
    "#     T_to_origin = np.array([\n",
    "#         [1, 0, 0, -x1],\n",
    "#         [0, 1, 0, 0],\n",
    "#         [0, 0, 1, -z1],\n",
    "#         [0, 0, 0, 1]\n",
    "#     ])\n",
    "#     # Create the inverse translation matrix to move back after rotation\n",
    "#     T_back = np.array([\n",
    "#         [1, 0, 0, x1],\n",
    "#         [0, 1, 0, 0],\n",
    "#         [0, 0, 1, z1],\n",
    "#         [0, 0, 0, 1]\n",
    "#     ])\n",
    "#     # Create the rotation matrix (4x4) for rotation around the y-axis\n",
    "#     R_y = np.array([\n",
    "#         [np.cos(theta), 0, -np.sin(theta), 0],\n",
    "#         [0, 1, 0, 0],\n",
    "#         [np.sin(theta), 0, np.cos(theta), 0],\n",
    "#         [0, 0, 0, 1]\n",
    "#     ])\n",
    "    \n",
    "#     # Combine the translations and rotation\n",
    "#     R_combined = np.dot(T_back, np.dot(R_y, T_to_origin))\n",
    "#     R_rotated = np.dot(R_combined, R_original)\n",
    "    \n",
    "#     return R_rotated\n",
    "\n",
    "def apply_rotation_with_translation(R_original, theta, x1, z1):\n",
    "    \"\"\"Apply rotation around a line offset from the y-axis by translating, rotating, and translating back.\"\"\"\n",
    "    # Create the translation matrix to move the rotation axis to the origin\n",
    "    T_to_origin = np.array([\n",
    "        [1, 0, 0, -x1],\n",
    "        [0, 1, 0, 0],\n",
    "        [0, 0, 1, -z1],\n",
    "        [0, 0, 0, 1]\n",
    "    ])\n",
    "    # Create the inverse translation matrix to move back after rotation\n",
    "    T_back = np.array([\n",
    "        [1, 0, 0, x1],\n",
    "        [0, 1, 0, 0],\n",
    "        [0, 0, 1, z1],\n",
    "        [0, 0, 0, 1]\n",
    "    ])\n",
    "    # Create the rotation matrix (4x4) for rotation around the y-axis\n",
    "    R_y = np.array([\n",
    "        [np.cos(theta), 0, np.sin(theta), 0],\n",
    "        [0, 1, 0, 0],\n",
    "        [-np.sin(theta), 0, np.cos(theta), 0],\n",
    "        [0, 0, 0, 1]\n",
    "    ])\n",
    "    \n",
    "    # Combine the translations and rotation\n",
    "    R_combined = np.dot(T_back, np.dot(R_y, T_to_origin))\n",
    "    R_rotated = np.dot(R_combined, R_original)\n",
    "    \n",
    "    return R_rotated\n",
    "\n",
    "def rotate_R(R, theta):\n",
    "    \"\"\"Rotate a 3x3 rotation matrix around the y-axis.\"\"\"\n",
    "    R_y = np.array([\n",
    "        [np.cos(theta), 0, -np.sin(theta)],\n",
    "        [0, 1, 0],\n",
    "        [np.sin(theta), 0, np.cos(theta)]\n",
    "    ])\n",
    "    R_rotated = np.dot(R_y, R)\n",
    "    return R_rotated\n",
    "\n",
    "def rotation_matrix_to_quaternion(R):\n",
    "    \"\"\"Convert a 3x3 rotation matrix into a quaternion.\"\"\"\n",
    "    w = np.sqrt(1 + R[0, 0] + R[1, 1] + R[2, 2]) / 2\n",
    "    x = (R[2, 1] - R[1, 2]) / (4 * w)\n",
    "    y = (R[0, 2] - R[2, 0]) / (4 * w)\n",
    "    z = (R[1, 0] - R[0, 1]) / (4 * w)\n",
    "    return np.array([w, x, y, z])\n",
    "\n",
    "\n",
    "\n",
    "def quaternion_translation_to_matrix(q, t):\n",
    "    \"\"\"Convert quaternion and translation vector to a 4x4 transformation matrix.\"\"\"\n",
    "    R = quaternion_to_rotation_matrix(q)  # Convert quaternion to 3x3 rotation matrix\n",
    "    T = np.eye(4)  # Start with an identity matrix\n",
    "    T[:3, :3] = R  # Set the upper 3x3 part to the rotation matrix\n",
    "    T[:3, 3] = t  # Set the translation\n",
    "    return T\n",
    "\n",
    "def matrix_to_quaternion_translation(T):\n",
    "    \"\"\"Extract quaternion and translation vector from a 4x4 transformation matrix.\"\"\"\n",
    "    q_rotated = rotation_matrix_to_quaternion(T[:3, :3])  # Extract quaternion from the upper 3x3 part\n",
    "    t_rotated = T[:3, 3]  # Extract translation vector\n",
    "    return q_rotated, t_rotated"
   ]
  },
  {
   "cell_type": "code",
   "execution_count": 34,
   "metadata": {},
   "outputs": [],
   "source": [
    "cam = json.load(open('../cam.json'))"
   ]
  },
  {
   "cell_type": "code",
   "execution_count": 35,
   "metadata": {},
   "outputs": [
    {
     "data": {
      "text/plain": [
       "{'loop': False,\n",
       " 'path': [{'R': [0.9380469918251038,\n",
       "    -0.0429956391453743,\n",
       "    0.3198738396167755,\n",
       "    0.12608736753463745],\n",
       "   'T': [-1.1177868843078613, 0.8019675016403198, 1.45546555519104],\n",
       "   'aperture_size': 0.0,\n",
       "   'fov': 50.625,\n",
       "   'glow_mode': 0,\n",
       "   'glow_y_cutoff': 0.0,\n",
       "   'scale': 1.1269716024398804,\n",
       "   'slice': 0.14271652698516846}],\n",
       " 'time': 1.0}"
      ]
     },
     "execution_count": 35,
     "metadata": {},
     "output_type": "execute_result"
    }
   ],
   "source": [
    "cam"
   ]
  },
  {
   "cell_type": "code",
   "execution_count": 36,
   "metadata": {},
   "outputs": [],
   "source": [
    "q = cam['path'][0]['R']\n",
    "T = cam['path'][0]['T']"
   ]
  },
  {
   "cell_type": "code",
   "execution_count": 37,
   "metadata": {},
   "outputs": [],
   "source": [
    "T_original = quaternion_translation_to_matrix(q, T)"
   ]
  },
  {
   "cell_type": "code",
   "execution_count": 38,
   "metadata": {},
   "outputs": [],
   "source": [
    "cam_rotated = cam.copy()"
   ]
  },
  {
   "cell_type": "code",
   "execution_count": 39,
   "metadata": {},
   "outputs": [],
   "source": [
    "for theta in range(0, 360, 45):\n",
    "    T_rotated = apply_rotation_with_translation(T_original, np.radians(theta), 0.5, 0.5)\n",
    "\n",
    "    T_rotated[:3, :3] = rotate_R(T_original[:3, :3], np.radians(theta))\n",
    "\n",
    "    q_rotated, t_rotated = matrix_to_quaternion_translation(T_rotated)\n",
    "    cam_rotated['path'].append(cam['path'][0].copy())\n",
    "    cam_rotated['path'][-1]['R'] = q_rotated.tolist() # unshift_and_normalize_points(R_rotated)\n",
    "    cam_rotated['path'][-1]['T'] = t_rotated.tolist() # T_rotated"
   ]
  },
  {
   "cell_type": "code",
   "execution_count": 40,
   "metadata": {},
   "outputs": [],
   "source": [
    "# save as cam_rotated.json\n",
    "with open('../cam_rotated_2.json', 'w') as f:\n",
    "    json.dump(cam_rotated, f, indent=4)"
   ]
  }
 ],
 "metadata": {
  "kernelspec": {
   "display_name": "nerf-slam",
   "language": "python",
   "name": "python3"
  },
  "language_info": {
   "codemirror_mode": {
    "name": "ipython",
    "version": 3
   },
   "file_extension": ".py",
   "mimetype": "text/x-python",
   "name": "python",
   "nbconvert_exporter": "python",
   "pygments_lexer": "ipython3",
   "version": "3.10.13"
  }
 },
 "nbformat": 4,
 "nbformat_minor": 2
}
